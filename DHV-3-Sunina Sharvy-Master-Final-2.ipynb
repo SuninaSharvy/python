{
 "cells": [
  {
   "cell_type": "markdown",
   "id": "6dc3394e",
   "metadata": {},
   "source": [
    "# Assignment 2 - Pandas"
   ]
  },
  {
   "cell_type": "markdown",
   "id": "6c5e66e3",
   "metadata": {},
   "source": [
    "Sunina, Sharvy, Student ID # 21031313"
   ]
  },
  {
   "cell_type": "markdown",
   "id": "67b75adb",
   "metadata": {},
   "source": [
    "## The Story"
   ]
  },
  {
   "cell_type": "markdown",
   "id": "86a6e8a0",
   "metadata": {},
   "source": [
    "#### The GOAL"
   ]
  },
  {
   "cell_type": "markdown",
   "id": "52a71969",
   "metadata": {},
   "source": [
    "The Goal of this assignment is to explore the World Bank Data website and analyse the two categories Climate Change & Enviornment. The entire analysis is trying to figure out the correlation between these two categories from the 8 different Indicators."
   ]
  },
  {
   "cell_type": "markdown",
   "id": "7a2a2cd9",
   "metadata": {},
   "source": [
    "#### Types of analysing Data"
   ]
  },
  {
   "cell_type": "markdown",
   "id": "b4b255d2",
   "metadata": {},
   "source": [
    "The Goal of this work is to explore the World Bank Data website and analyse two categories Climate Change & Enviornment. The entire analysis is trying to figure out the correlation between these two Cagtegories from the 8 different Indicators. From the Climate Change, I have selected CO2, Land, Population and Energy Use and from the Enviornment the selected indicators are Air Pollution, Electricity Access, Arable Land & Renewable Energy Use."
   ]
  },
  {
   "cell_type": "markdown",
   "id": "e87e40de",
   "metadata": {},
   "source": [
    "#### The Summary Statistics"
   ]
  },
  {
   "cell_type": "markdown",
   "id": "0bfcb439",
   "metadata": {},
   "source": [
    "I have derived 9 different summary statistics, that shows the effect of different parameters towards the Climate Change & Enviornmental Parameters. Those are explained below,"
   ]
  },
  {
   "cell_type": "markdown",
   "id": "bb41d57a",
   "metadata": {},
   "source": [
    "###### Summary Statistics -1  Does Renewable Energy Use has a Big Impact over the Airpolution  (Using Pivot Table Method)"
   ]
  },
  {
   "cell_type": "markdown",
   "id": "e7f910e0",
   "metadata": {},
   "source": [
    "By using the Pivot Table, the Enviornmental data extracted from the world bank , we can see an interesting correlation between the renewable energy use and the air pollution. The world has started to use the renewable energy like solar systems and wind power considerably by the starting of the year 2012, this has reduced the Air pollution by a fare margin."
   ]
  },
  {
   "cell_type": "markdown",
   "id": "e987d43e",
   "metadata": {},
   "source": [
    "###### Summary Statistics -2 Relation between Population & CO2 Emission"
   ]
  },
  {
   "cell_type": "markdown",
   "id": "5697fdc6",
   "metadata": {},
   "source": [
    "The Carbondioxide (CO2) emission is increased by a large amount during the years 2011 & 2012 when compared with 2010. One of the main reason for this is becuase of the increase in the population and the use of petrol or diesel vehicles"
   ]
  },
  {
   "cell_type": "markdown",
   "id": "aa05c4c5",
   "metadata": {},
   "source": [
    "###### Summary Statistics -3 Impact of Population on Climate Change ( using Both Data Frames with Gorupby method)"
   ]
  },
  {
   "cell_type": "markdown",
   "id": "09bb7ba8",
   "metadata": {},
   "source": [
    "Taking the whole mean of the two data frames together & sorting by population will give you an insight about the population impact on the climate change and enviornmental indicators. China has the largest population but India with lesser population than China will have the highest Air Pollution. This is because, Land Areas of India has considerably reduced. This makes the Air quality being degraded from other countries. "
   ]
  },
  {
   "cell_type": "markdown",
   "id": "d0de2083",
   "metadata": {},
   "source": [
    "###### Summary Statistics -4 Electricity Access Impact on Air Pollution ( using Both Data Frames with Gorupby() & aggregate () method)"
   ]
  },
  {
   "cell_type": "markdown",
   "id": "3787a96a",
   "metadata": {},
   "source": [
    "Afganistan and Finaland are there in the World Happiness Index Survey. Finaland is in the top of the list with higher happy index & Afganistan with least happiness index. When we analyse the data of both AFG & FIN together using Groupby() & Aggregate () funtion for the maximum value. There is a huge difference in the usage of Renewable energy. Finaland has a high rate of use for the renewable energy, but Afganistan lack in those area. Also the Access to Electricity in AFG is higher, this in turn cause the peoples to use non-renewable energy higher & this will increase the Air Pollution rate much higher than Finland."
   ]
  },
  {
   "cell_type": "markdown",
   "id": "cd9a29f1",
   "metadata": {},
   "source": [
    "###### Summary Statistics -5 Region wise Climate Change (Using groupby() using an external key,dictionary Country_Groups)"
   ]
  },
  {
   "cell_type": "markdown",
   "id": "e04fed9c",
   "metadata": {},
   "source": [
    "Further more analysing the data using the Groupby with Regional wise external key dictionary (\"country_groups\") created before, we can notice that, the countries from Asian regions are having more Air Pollution than the European countries."
   ]
  },
  {
   "cell_type": "markdown",
   "id": "6b716f48",
   "metadata": {},
   "source": [
    "###### Summary Statistics -6 Region wise Carbon Emission (Using groupby() using an external key,dictionary Country_Groups)"
   ]
  },
  {
   "cell_type": "markdown",
   "id": "406b3bee",
   "metadata": {},
   "source": [
    "Eventhough Asia has the largest population with largest Air pollution, they have lesser Carbon emissions. This is because, they are now moving in to the renewable energy and increase in the Arable Land areas. But Middle East is leading the Carbon emissions because of the less use of Renewable Energy as the non-renewable energy sources like petroleum easily available. Because of this fuel availability leading towards the high usage of the Fuel cause Carbon Emissions. One more point to be noted, the Arable Land areas in Middle East are far below than Asia or Europe"
   ]
  },
  {
   "cell_type": "markdown",
   "id": "71448b38",
   "metadata": {},
   "source": [
    "###### Summary Statistics -7 Regions with Highest Energy Consumption (using groupby() with .filter() function)"
   ]
  },
  {
   "cell_type": "markdown",
   "id": "2f77c8aa",
   "metadata": {},
   "source": [
    "By using the Filter() function with Groupby method, we can find the highest 3 Energy using Regions from the World Bank Data frame. Middle East is leading the list becuase of the uninterruptable use of Oil & Gas."
   ]
  },
  {
   "cell_type": "markdown",
   "id": "30c6cae9",
   "metadata": {},
   "source": [
    "###### Summary Statistics -8 Population Analysis vs Electricity Access (using gorupby() method with transform())"
   ]
  },
  {
   "cell_type": "markdown",
   "id": "cca34920",
   "metadata": {},
   "source": [
    "From the below analysis, we are transforming the population data in millions for the easy interpretation. Asia & Africa poses lesser access to Electricity than other countries while holding the higher population rates."
   ]
  },
  {
   "cell_type": "markdown",
   "id": "3eea798d",
   "metadata": {},
   "source": [
    "###### Summary Statistics -9 Renewable Energy Use vs Total Energy Use (Using Groupby()method with apply() function )"
   ]
  },
  {
   "cell_type": "markdown",
   "id": "b44b466a",
   "metadata": {},
   "source": [
    "Using the Apply function, we can figure out the percentage of the use of Renewable energy from the total energy consumption from the country regions. From the analysis, there in one interesting point to be noted. The Asia & Africa regions are using  more renewable energy from the total energy consumption with Asia having 9.26% & Africa having 4.15%."
   ]
  },
  {
   "cell_type": "markdown",
   "id": "981766a2",
   "metadata": {},
   "source": [
    "## Data Preparation"
   ]
  },
  {
   "cell_type": "code",
   "execution_count": 2,
   "id": "67922ce7",
   "metadata": {},
   "outputs": [],
   "source": [
    "import pandas as pd\n",
    "import wbgapi as wb"
   ]
  },
  {
   "cell_type": "code",
   "execution_count": 3,
   "id": "0a9fd525",
   "metadata": {},
   "outputs": [],
   "source": [
    "#Assigning Global Variables for the easy use of WB Indicators\n",
    "CO2 = \"EN.ATM.CO2E.PC\"\n",
    "Land = \"AG.LND.FRST.K2\"\n",
    "Population = \"SP.POP.TOTL\"\n",
    "Energy_use = \"EG.USE.PCAP.KG.OE\"\n",
    "\n",
    "Air_pollution = \"EN.ATM.PM25.MC.M3\"\n",
    "Electricity_access = \"EG.ELC.ACCS.ZS\"\n",
    "Arable_Land = \"AG.LND.ARBL.ZS\"\n",
    "Renewable_Energy_use = \"EG.FEC.RNEW.ZS\"\n",
    "\n",
    "start_year = 2008\n",
    "end_year = 2018"
   ]
  },
  {
   "cell_type": "code",
   "execution_count": 4,
   "id": "7ac7940e",
   "metadata": {},
   "outputs": [],
   "source": [
    "#Creating three variables:  A list of the country codes, a dictionary with keys being country codes \n",
    "#and the dictionary with country groups\n",
    "\n",
    "country_codes = [\"GBR\", \"IND\", \"ZAF\", \"AFG\", \"RUS\", \"CHN\", \"FIN\", \"USA\", \"AUS\", \"ARE\"]\n",
    "\n",
    "country_names = {'GBR':'United Kingdom', 'IND':'India', 'ZAF':'South Africa', 'AFG':'Afghanisthan', \n",
    "                 'RUS':'Russian Federation', 'CHN':'China', 'FIN':'Finland', 'USA':'United States',\n",
    "                 'AUS':'Australia', 'ARE':'United Arab Emirates'}\n",
    "\n",
    "country_groups = {'GBR':'Europe', 'IND':'Asia', 'ZAF':'Africa', 'AFG':'Asia', 'RUS':'Commonwealth',\n",
    "                'CHN':'Asia', 'FIN':'Europe', 'USA':'North America', 'AUS':'North America', 'ARE':'Middle East'}\n"
   ]
  },
  {
   "cell_type": "markdown",
   "id": "8a7042a8",
   "metadata": {},
   "source": [
    "### Indicators"
   ]
  },
  {
   "cell_type": "code",
   "execution_count": 7,
   "id": "3c80ce62",
   "metadata": {},
   "outputs": [],
   "source": [
    "indicators_cc = [CO2, Land, Population, Energy_use]  #Climate change indicators list"
   ]
  },
  {
   "cell_type": "code",
   "execution_count": 8,
   "id": "aad6c170",
   "metadata": {},
   "outputs": [],
   "source": [
    "indicators_env = [Air_pollution, Electricity_access, Arable_Land, Renewable_Energy_use] #Enviornmental Indicators list"
   ]
  },
  {
   "cell_type": "markdown",
   "id": "24691b34",
   "metadata": {},
   "source": [
    "### DataFrames"
   ]
  },
  {
   "cell_type": "code",
   "execution_count": null,
   "id": "21d56318",
   "metadata": {},
   "outputs": [],
   "source": [
    "#Downloading Climate change Data from WB web\n",
    "\n",
    "#df_cc = wb.data.DataFrame(indicators_cc, country_codes, time=range(start_year, end_year))\n",
    "df_cc = wb.data.DataFrame(indicators_cc, mrv = 10, columns='series').loc[country_codes,:]\n",
    "df_cc"
   ]
  },
  {
   "cell_type": "code",
   "execution_count": null,
   "id": "e27ea051",
   "metadata": {},
   "outputs": [],
   "source": [
    "df_cc_f = df_cc.stack().unstack(level=1) #stack & unstack operation with level 1 transpose the World Bank Indicators \n",
    "                                         #to the Columns & Years to the Level Index"
   ]
  },
  {
   "cell_type": "code",
   "execution_count": 17,
   "id": "719386a4",
   "metadata": {},
   "outputs": [],
   "source": [
    "#Downloading Enviornmental Data from WB web\n",
    "df_env = wb.data.DataFrame(indicators_env, country_codes, time=range(start_year, end_year))"
   ]
  },
  {
   "cell_type": "code",
   "execution_count": 18,
   "id": "d4b8d9c6",
   "metadata": {},
   "outputs": [],
   "source": [
    "df_env_f = df_env.stack().unstack(level=1)   #stack & unstack operation with level 1 transpose the World Bank Indicators \n",
    "                                             #to the Columns & Years to the Level Index"
   ]
  },
  {
   "cell_type": "code",
   "execution_count": 19,
   "id": "73085dc3",
   "metadata": {},
   "outputs": [
    {
     "ename": "NameError",
     "evalue": "name 'df_cc_f' is not defined",
     "output_type": "error",
     "traceback": [
      "\u001b[1;31m---------------------------------------------------------------------------\u001b[0m",
      "\u001b[1;31mNameError\u001b[0m                                 Traceback (most recent call last)",
      "\u001b[1;32m~\\AppData\\Local\\Temp/ipykernel_17292/3282985830.py\u001b[0m in \u001b[0;36m<module>\u001b[1;34m\u001b[0m\n\u001b[1;32m----> 1\u001b[1;33m \u001b[0mdf_cc_env\u001b[0m \u001b[1;33m=\u001b[0m \u001b[0mpd\u001b[0m\u001b[1;33m.\u001b[0m\u001b[0mconcat\u001b[0m\u001b[1;33m(\u001b[0m\u001b[1;33m[\u001b[0m\u001b[0mdf_cc_f\u001b[0m\u001b[1;33m,\u001b[0m \u001b[0mdf_env_f\u001b[0m\u001b[1;33m]\u001b[0m\u001b[1;33m,\u001b[0m \u001b[0maxis\u001b[0m\u001b[1;33m=\u001b[0m\u001b[1;36m1\u001b[0m\u001b[1;33m)\u001b[0m \u001b[1;31m#Adding multi index data frames with Axis=1\u001b[0m\u001b[1;33m\u001b[0m\u001b[1;33m\u001b[0m\u001b[0m\n\u001b[0m",
      "\u001b[1;31mNameError\u001b[0m: name 'df_cc_f' is not defined"
     ]
    }
   ],
   "source": [
    "df_cc_env = pd.concat([df_cc_f, df_env_f], axis=1) #Adding multi index data frames with Axis=1"
   ]
  },
  {
   "cell_type": "code",
   "execution_count": null,
   "id": "e000085a",
   "metadata": {},
   "outputs": [],
   "source": [
    "df_cc_env.index.names = [\"Country\", \"Years\"]  #Renaming the Indexes"
   ]
  },
  {
   "cell_type": "code",
   "execution_count": null,
   "id": "a5debc3e",
   "metadata": {},
   "outputs": [],
   "source": [
    "#Renaming the Columns with understandable names\n",
    "\n",
    "df_cc_env.columns = ['Land', 'Energy_use', 'CO2', 'Population', 'Arable_Land',\n",
    "                     'Electricity_access', 'Renewable_Energy_use', 'Air_pollution'] \n"
   ]
  },
  {
   "cell_type": "code",
   "execution_count": null,
   "id": "c38ab337",
   "metadata": {},
   "outputs": [],
   "source": [
    "#Defining the Parameters for the the Multi-Index Frame\n",
    "\n",
    "years = [2010, 2011, 2012]\n",
    "\n",
    "country_nm = ['Afghanisthan', 'United Arab Emirates', 'Australia', 'China' ,'Finland',\n",
    "              'United Kingdom', 'India', 'Russian Federation', 'United States','South Africa']\n"
   ]
  },
  {
   "cell_type": "code",
   "execution_count": null,
   "id": "5e2a8869",
   "metadata": {},
   "outputs": [],
   "source": [
    "#Defining and grouping Categories/Indicators with Climate Change and Enviornmental Labels. Thus creating column index values\n",
    "\n",
    "col = pd.MultiIndex.from_tuples([('Climate_Change', 'Land'), ('Climate_Change', 'Energy_use'),  \n",
    "                                 ('Climate_Change', 'CO2'), ('Climate_Change', 'Population'),\n",
    "                                 ('Enviornment', 'Arable_Land'), ('Enviornment', 'Electricity_access'),\n",
    "                                 ('Enviornment', 'Renewable_Energy_use'),('Enviornment', 'Air_pollution')],\n",
    "                                  names=['Category', 'Indicators'])\n"
   ]
  },
  {
   "cell_type": "code",
   "execution_count": null,
   "id": "27d4393d",
   "metadata": {},
   "outputs": [],
   "source": [
    "#Creating MultiIndex for the indexing\n",
    "\n",
    "ind = pd.MultiIndex.from_product([country_nm, years], names=[\"Country\", \"Year\"]) \n"
   ]
  },
  {
   "cell_type": "code",
   "execution_count": null,
   "id": "4dc63f86",
   "metadata": {},
   "outputs": [],
   "source": [
    "#Assigning Columns and Index Parameters defined in the above session to get the formated multi-index dataframe\n",
    "\n",
    "df_cc_env.columns = col \n"
   ]
  },
  {
   "cell_type": "markdown",
   "id": "1ee1f450",
   "metadata": {},
   "source": [
    "#### Multi Indexed Data Frame from World Bank Data"
   ]
  },
  {
   "cell_type": "code",
   "execution_count": null,
   "id": "8ea412af",
   "metadata": {},
   "outputs": [],
   "source": [
    "\n",
    "df_cc_env  #Displaying Climate Change & Enviornmental Data with Multiple indicators on the same table with proper labelling\n"
   ]
  },
  {
   "cell_type": "markdown",
   "id": "dfd6bea8",
   "metadata": {},
   "source": [
    "#### Data Handling-Null Values"
   ]
  },
  {
   "cell_type": "code",
   "execution_count": 32,
   "id": "efbe80f5",
   "metadata": {},
   "outputs": [
    {
     "data": {
      "text/plain": [
       "Category        Indicators          \n",
       "Climate_Change  Land                    False\n",
       "                Energy_use               True\n",
       "                CO2                     False\n",
       "                Population              False\n",
       "Enviornment     Arable_Land             False\n",
       "                Electricity_access      False\n",
       "                Renewable_Energy_use    False\n",
       "                Air_pollution            True\n",
       "dtype: bool"
      ]
     },
     "execution_count": 32,
     "metadata": {},
     "output_type": "execute_result"
    }
   ],
   "source": [
    "df_cc_env.isnull().any() #finding any null values in the indicators\n"
   ]
  },
  {
   "cell_type": "code",
   "execution_count": 33,
   "id": "7eb737f3",
   "metadata": {},
   "outputs": [],
   "source": [
    "df_cc_env['Climate_Change', 'Energy_use'].fillna(df_cc_env['Climate_Change', 'Energy_use'].mean(),inplace=True)"
   ]
  },
  {
   "cell_type": "code",
   "execution_count": 35,
   "id": "3178e1b3",
   "metadata": {},
   "outputs": [],
   "source": [
    "df_cc_env['Enviornment', 'Air_pollution'].fillna(df_cc_env['Enviornment', 'Air_pollution'].mean(),inplace=True)"
   ]
  },
  {
   "cell_type": "code",
   "execution_count": 36,
   "id": "9a3d4ba5",
   "metadata": {},
   "outputs": [
    {
     "data": {
      "text/html": [
       "<div>\n",
       "<style scoped>\n",
       "    .dataframe tbody tr th:only-of-type {\n",
       "        vertical-align: middle;\n",
       "    }\n",
       "\n",
       "    .dataframe tbody tr th {\n",
       "        vertical-align: top;\n",
       "    }\n",
       "\n",
       "    .dataframe thead tr th {\n",
       "        text-align: left;\n",
       "    }\n",
       "\n",
       "    .dataframe thead tr:last-of-type th {\n",
       "        text-align: right;\n",
       "    }\n",
       "</style>\n",
       "<table border=\"1\" class=\"dataframe\">\n",
       "  <thead>\n",
       "    <tr>\n",
       "      <th></th>\n",
       "      <th>Category</th>\n",
       "      <th colspan=\"4\" halign=\"left\">Climate_Change</th>\n",
       "      <th colspan=\"4\" halign=\"left\">Enviornment</th>\n",
       "    </tr>\n",
       "    <tr>\n",
       "      <th></th>\n",
       "      <th>Indicators</th>\n",
       "      <th>Land</th>\n",
       "      <th>Energy_use</th>\n",
       "      <th>CO2</th>\n",
       "      <th>Population</th>\n",
       "      <th>Arable_Land</th>\n",
       "      <th>Electricity_access</th>\n",
       "      <th>Renewable_Energy_use</th>\n",
       "      <th>Air_pollution</th>\n",
       "    </tr>\n",
       "    <tr>\n",
       "      <th>Country</th>\n",
       "      <th>Years</th>\n",
       "      <th></th>\n",
       "      <th></th>\n",
       "      <th></th>\n",
       "      <th></th>\n",
       "      <th></th>\n",
       "      <th></th>\n",
       "      <th></th>\n",
       "      <th></th>\n",
       "    </tr>\n",
       "  </thead>\n",
       "  <tbody>\n",
       "    <tr>\n",
       "      <th rowspan=\"5\" valign=\"top\">AFG</th>\n",
       "      <th>YR2008</th>\n",
       "      <td>12084.4</td>\n",
       "      <td>4499.003600</td>\n",
       "      <td>0.158356</td>\n",
       "      <td>27722281.0</td>\n",
       "      <td>11.938241</td>\n",
       "      <td>42.400000</td>\n",
       "      <td>21.343700</td>\n",
       "      <td>33.466452</td>\n",
       "    </tr>\n",
       "    <tr>\n",
       "      <th>YR2009</th>\n",
       "      <td>12084.4</td>\n",
       "      <td>4499.003600</td>\n",
       "      <td>0.211306</td>\n",
       "      <td>28394806.0</td>\n",
       "      <td>11.936709</td>\n",
       "      <td>45.520683</td>\n",
       "      <td>17.850401</td>\n",
       "      <td>33.466452</td>\n",
       "    </tr>\n",
       "    <tr>\n",
       "      <th>YR2010</th>\n",
       "      <td>12084.4</td>\n",
       "      <td>4499.003600</td>\n",
       "      <td>0.297065</td>\n",
       "      <td>29185511.0</td>\n",
       "      <td>11.936709</td>\n",
       "      <td>42.700000</td>\n",
       "      <td>14.899000</td>\n",
       "      <td>65.245592</td>\n",
       "    </tr>\n",
       "    <tr>\n",
       "      <th>YR2011</th>\n",
       "      <td>12084.4</td>\n",
       "      <td>4499.003600</td>\n",
       "      <td>0.407074</td>\n",
       "      <td>30117411.0</td>\n",
       "      <td>11.933646</td>\n",
       "      <td>43.222019</td>\n",
       "      <td>11.559100</td>\n",
       "      <td>66.835727</td>\n",
       "    </tr>\n",
       "    <tr>\n",
       "      <th>YR2012</th>\n",
       "      <td>12084.4</td>\n",
       "      <td>4499.003600</td>\n",
       "      <td>0.335351</td>\n",
       "      <td>31161378.0</td>\n",
       "      <td>11.932114</td>\n",
       "      <td>69.100000</td>\n",
       "      <td>14.404900</td>\n",
       "      <td>66.023174</td>\n",
       "    </tr>\n",
       "    <tr>\n",
       "      <th>...</th>\n",
       "      <th>...</th>\n",
       "      <td>...</td>\n",
       "      <td>...</td>\n",
       "      <td>...</td>\n",
       "      <td>...</td>\n",
       "      <td>...</td>\n",
       "      <td>...</td>\n",
       "      <td>...</td>\n",
       "      <td>...</td>\n",
       "    </tr>\n",
       "    <tr>\n",
       "      <th rowspan=\"5\" valign=\"top\">ZAF</th>\n",
       "      <th>YR2013</th>\n",
       "      <td>173048.9</td>\n",
       "      <td>2602.845598</td>\n",
       "      <td>8.137333</td>\n",
       "      <td>53687125.0</td>\n",
       "      <td>9.892094</td>\n",
       "      <td>85.200000</td>\n",
       "      <td>9.782000</td>\n",
       "      <td>26.729262</td>\n",
       "    </tr>\n",
       "    <tr>\n",
       "      <th>YR2014</th>\n",
       "      <td>172684.9</td>\n",
       "      <td>2695.505776</td>\n",
       "      <td>8.213158</td>\n",
       "      <td>54544184.0</td>\n",
       "      <td>9.892094</td>\n",
       "      <td>86.000000</td>\n",
       "      <td>9.908100</td>\n",
       "      <td>26.722212</td>\n",
       "    </tr>\n",
       "    <tr>\n",
       "      <th>YR2015</th>\n",
       "      <td>172320.9</td>\n",
       "      <td>4499.003600</td>\n",
       "      <td>7.671202</td>\n",
       "      <td>55386369.0</td>\n",
       "      <td>9.892094</td>\n",
       "      <td>85.300000</td>\n",
       "      <td>10.291700</td>\n",
       "      <td>26.112972</td>\n",
       "    </tr>\n",
       "    <tr>\n",
       "      <th>YR2016</th>\n",
       "      <td>171956.9</td>\n",
       "      <td>4499.003600</td>\n",
       "      <td>7.564451</td>\n",
       "      <td>56207649.0</td>\n",
       "      <td>9.892094</td>\n",
       "      <td>84.200000</td>\n",
       "      <td>10.705300</td>\n",
       "      <td>25.140416</td>\n",
       "    </tr>\n",
       "    <tr>\n",
       "      <th>YR2017</th>\n",
       "      <td>171592.9</td>\n",
       "      <td>4499.003600</td>\n",
       "      <td>7.632729</td>\n",
       "      <td>57009751.0</td>\n",
       "      <td>9.892094</td>\n",
       "      <td>84.400000</td>\n",
       "      <td>10.225400</td>\n",
       "      <td>25.102205</td>\n",
       "    </tr>\n",
       "  </tbody>\n",
       "</table>\n",
       "<p>100 rows × 8 columns</p>\n",
       "</div>"
      ],
      "text/plain": [
       "Category       Climate_Change                                    Enviornment  \\\n",
       "Indicators               Land   Energy_use       CO2  Population Arable_Land   \n",
       "Country Years                                                                  \n",
       "AFG     YR2008        12084.4  4499.003600  0.158356  27722281.0   11.938241   \n",
       "        YR2009        12084.4  4499.003600  0.211306  28394806.0   11.936709   \n",
       "        YR2010        12084.4  4499.003600  0.297065  29185511.0   11.936709   \n",
       "        YR2011        12084.4  4499.003600  0.407074  30117411.0   11.933646   \n",
       "        YR2012        12084.4  4499.003600  0.335351  31161378.0   11.932114   \n",
       "...                       ...          ...       ...         ...         ...   \n",
       "ZAF     YR2013       173048.9  2602.845598  8.137333  53687125.0    9.892094   \n",
       "        YR2014       172684.9  2695.505776  8.213158  54544184.0    9.892094   \n",
       "        YR2015       172320.9  4499.003600  7.671202  55386369.0    9.892094   \n",
       "        YR2016       171956.9  4499.003600  7.564451  56207649.0    9.892094   \n",
       "        YR2017       171592.9  4499.003600  7.632729  57009751.0    9.892094   \n",
       "\n",
       "Category                                                              \n",
       "Indicators     Electricity_access Renewable_Energy_use Air_pollution  \n",
       "Country Years                                                         \n",
       "AFG     YR2008          42.400000            21.343700     33.466452  \n",
       "        YR2009          45.520683            17.850401     33.466452  \n",
       "        YR2010          42.700000            14.899000     65.245592  \n",
       "        YR2011          43.222019            11.559100     66.835727  \n",
       "        YR2012          69.100000            14.404900     66.023174  \n",
       "...                           ...                  ...           ...  \n",
       "ZAF     YR2013          85.200000             9.782000     26.729262  \n",
       "        YR2014          86.000000             9.908100     26.722212  \n",
       "        YR2015          85.300000            10.291700     26.112972  \n",
       "        YR2016          84.200000            10.705300     25.140416  \n",
       "        YR2017          84.400000            10.225400     25.102205  \n",
       "\n",
       "[100 rows x 8 columns]"
      ]
     },
     "execution_count": 36,
     "metadata": {},
     "output_type": "execute_result"
    }
   ],
   "source": [
    "df_cc_env"
   ]
  },
  {
   "cell_type": "markdown",
   "id": "b46f1aac",
   "metadata": {},
   "source": [
    "## Data Analysis"
   ]
  },
  {
   "cell_type": "markdown",
   "id": "4c337c86",
   "metadata": {},
   "source": [
    "##### STAT-1 Does Renewable Energy Use has a Big Impact over the Airpolution  (Using Pivot Table Method)"
   ]
  },
  {
   "cell_type": "markdown",
   "id": "36325599",
   "metadata": {},
   "source": [
    "By using the Pivot Table over the Enviornment data extracted from the world bank , we can see an interesting correlation between the renewable energy use & the airpolution. The world has started to use the renewable energy like solar systems & wind power considerably by the starting of the year 2012, this has reduced the Air Polution by a fare margin."
   ]
  },
  {
   "cell_type": "code",
   "execution_count": 37,
   "id": "f89047bf",
   "metadata": {},
   "outputs": [
    {
     "data": {
      "text/plain": [
       "Category     Indicators            Years \n",
       "Enviornment  Air_pollution         YR2008    33.466452\n",
       "                                   YR2009    33.466452\n",
       "                                   YR2010    35.554926\n",
       "                                   YR2011    36.083955\n",
       "                                   YR2012    34.013407\n",
       "                                   YR2013    33.943863\n",
       "                                   YR2014    32.467078\n",
       "                                   YR2015    32.928921\n",
       "                                   YR2016    31.247235\n",
       "                                   YR2017    31.492234\n",
       "             Arable_Land           YR2008    14.962298\n",
       "                                   YR2009    14.991945\n",
       "                                   YR2010    14.874543\n",
       "                                   YR2011    14.919641\n",
       "                                   YR2012    14.929702\n",
       "                                   YR2013    14.938292\n",
       "                                   YR2014    14.949489\n",
       "                                   YR2015    14.852890\n",
       "                                   YR2016    14.846525\n",
       "                                   YR2017    14.878867\n",
       "             Electricity_access    YR2008    89.489579\n",
       "                                   YR2009    90.230810\n",
       "                                   YR2010    90.160000\n",
       "                                   YR2011    89.427924\n",
       "                                   YR2012    93.426487\n",
       "                                   YR2013    93.491799\n",
       "                                   YR2014    95.908521\n",
       "                                   YR2015    94.030000\n",
       "                                   YR2016    97.143488\n",
       "                                   YR2017    97.455683\n",
       "             Renewable_Energy_use  YR2008    14.503660\n",
       "                                   YR2009    13.857620\n",
       "                                   YR2010    13.636580\n",
       "                                   YR2011    13.456820\n",
       "                                   YR2012    13.984440\n",
       "                                   YR2013    14.313790\n",
       "                                   YR2014    14.937430\n",
       "                                   YR2015    15.070010\n",
       "                                   YR2016    15.503160\n",
       "                                   YR2017    15.760700\n",
       "dtype: float64"
      ]
     },
     "execution_count": 37,
     "metadata": {},
     "output_type": "execute_result"
    }
   ],
   "source": [
    "#Using Pivot Table to get the Enviornment Parameters over the years comprised from all the countries\n",
    "stat1= df_cc_env.pivot_table(['Enviornment'], index='Country', columns=\"Years\").mean()\n",
    "stat1"
   ]
  },
  {
   "cell_type": "markdown",
   "id": "105df0b3",
   "metadata": {},
   "source": [
    "##### STAT-2 Relation between Population & CO2 Emission"
   ]
  },
  {
   "cell_type": "markdown",
   "id": "dedd8344",
   "metadata": {},
   "source": [
    "The Carbon Dioxide (CO2) emission is increased by a large amount during the years 2011 & 2012 when compared with 2010. One of the main reason for this is becuase of the increase in the population & the use of petrol or diesel vehicles"
   ]
  },
  {
   "cell_type": "code",
   "execution_count": 38,
   "id": "b8ede069",
   "metadata": {},
   "outputs": [
    {
     "data": {
      "text/plain": [
       "Category        Indicators  Years \n",
       "Climate_Change  CO2         YR2008    1.042429e+01\n",
       "                            YR2009    9.826594e+00\n",
       "                            YR2010    1.007549e+01\n",
       "                            YR2011    9.791717e+00\n",
       "                            YR2012    9.702191e+00\n",
       "                            YR2013    9.735206e+00\n",
       "                            YR2014    9.508963e+00\n",
       "                            YR2015    9.371067e+00\n",
       "                            YR2016    9.350379e+00\n",
       "                            YR2017    9.335659e+00\n",
       "                Energy_use  YR2008    4.629780e+03\n",
       "                            YR2009    4.411103e+03\n",
       "                            YR2010    4.483167e+03\n",
       "                            YR2011    4.440414e+03\n",
       "                            YR2012    4.429859e+03\n",
       "                            YR2013    4.407327e+03\n",
       "                            YR2014    4.393274e+03\n",
       "                            YR2015    4.797105e+03\n",
       "                            YR2016    4.499004e+03\n",
       "                            YR2017    4.499004e+03\n",
       "                Land        YR2008    1.560980e+06\n",
       "                            YR2009    1.564365e+06\n",
       "                            YR2010    1.567749e+06\n",
       "                            YR2011    1.570912e+06\n",
       "                            YR2012    1.574075e+06\n",
       "                            YR2013    1.577238e+06\n",
       "                            YR2014    1.580401e+06\n",
       "                            YR2015    1.583564e+06\n",
       "                            YR2016    1.587097e+06\n",
       "                            YR2017    1.589082e+06\n",
       "                Population  YR2008    3.145122e+08\n",
       "                            YR2009    3.174639e+08\n",
       "                            YR2010    3.203277e+08\n",
       "                            YR2011    3.231922e+08\n",
       "                            YR2012    3.262033e+08\n",
       "                            YR2013    3.291499e+08\n",
       "                            YR2014    3.320335e+08\n",
       "                            YR2015    3.348323e+08\n",
       "                            YR2016    3.375971e+08\n",
       "                            YR2017    3.403473e+08\n",
       "dtype: float64"
      ]
     },
     "execution_count": 38,
     "metadata": {},
     "output_type": "execute_result"
    }
   ],
   "source": [
    "#Using Pivot Table to get the Climate Change Parameters over the years comprised from all the countries\n",
    "stat2= df_cc_env.pivot_table(['Climate_Change'], index='Country', columns=\"Years\").mean()\n",
    "stat2"
   ]
  },
  {
   "cell_type": "markdown",
   "id": "2758ec53",
   "metadata": {},
   "source": [
    "##### STAT-3  Impact of Population on Climate Change ( using Both Data Frames with Gorupby method)"
   ]
  },
  {
   "cell_type": "markdown",
   "id": "d58d5272",
   "metadata": {},
   "source": [
    "Taking the whole mean of the two data frames together & sorting by population will give you an insigt about the population impact on the climate change & enviornmental parameters. China has the largest population but India with lesser population than China will have the highest Air Polution parameters. This is because, Land Areas of India has considerably reduced. This is making the Air quality being degraded from other countries. "
   ]
  },
  {
   "cell_type": "code",
   "execution_count": 39,
   "id": "5a640502",
   "metadata": {},
   "outputs": [],
   "source": [
    "data_mean = df_cc_env.groupby(level='Country').mean()  #Outer Level group by"
   ]
  },
  {
   "cell_type": "code",
   "execution_count": 40,
   "id": "670ca16b",
   "metadata": {},
   "outputs": [
    {
     "data": {
      "text/html": [
       "<div>\n",
       "<style scoped>\n",
       "    .dataframe tbody tr th:only-of-type {\n",
       "        vertical-align: middle;\n",
       "    }\n",
       "\n",
       "    .dataframe tbody tr th {\n",
       "        vertical-align: top;\n",
       "    }\n",
       "\n",
       "    .dataframe thead th {\n",
       "        text-align: right;\n",
       "    }\n",
       "</style>\n",
       "<table border=\"1\" class=\"dataframe\">\n",
       "  <thead>\n",
       "    <tr style=\"text-align: right;\">\n",
       "      <th>Indicators</th>\n",
       "      <th>Air_pollution</th>\n",
       "      <th>Arable_Land</th>\n",
       "      <th>CO2</th>\n",
       "      <th>Electricity_access</th>\n",
       "      <th>Energy_use</th>\n",
       "      <th>Land</th>\n",
       "      <th>Population</th>\n",
       "      <th>Renewable_Energy_use</th>\n",
       "    </tr>\n",
       "    <tr>\n",
       "      <th>Country</th>\n",
       "      <th></th>\n",
       "      <th></th>\n",
       "      <th></th>\n",
       "      <th></th>\n",
       "      <th></th>\n",
       "      <th></th>\n",
       "      <th></th>\n",
       "      <th></th>\n",
       "    </tr>\n",
       "  </thead>\n",
       "  <tbody>\n",
       "    <tr>\n",
       "      <th>CHN</th>\n",
       "      <td>56.000278</td>\n",
       "      <td>12.772381</td>\n",
       "      <td>6.736993</td>\n",
       "      <td>99.765123</td>\n",
       "      <td>2756.635478</td>\n",
       "      <td>2053651.038</td>\n",
       "      <td>1.359181e+09</td>\n",
       "      <td>12.39879</td>\n",
       "    </tr>\n",
       "    <tr>\n",
       "      <th>IND</th>\n",
       "      <td>79.973580</td>\n",
       "      <td>52.758350</td>\n",
       "      <td>1.493297</td>\n",
       "      <td>80.476606</td>\n",
       "      <td>1752.436636</td>\n",
       "      <td>701847.700</td>\n",
       "      <td>1.271853e+09</td>\n",
       "      <td>38.09563</td>\n",
       "    </tr>\n",
       "    <tr>\n",
       "      <th>USA</th>\n",
       "      <td>13.487067</td>\n",
       "      <td>17.183076</td>\n",
       "      <td>16.252073</td>\n",
       "      <td>100.000000</td>\n",
       "      <td>6527.656045</td>\n",
       "      <td>3092219.800</td>\n",
       "      <td>3.149033e+08</td>\n",
       "      <td>8.54411</td>\n",
       "    </tr>\n",
       "    <tr>\n",
       "      <th>RUS</th>\n",
       "      <td>20.768560</td>\n",
       "      <td>7.428098</td>\n",
       "      <td>11.080018</td>\n",
       "      <td>99.550000</td>\n",
       "      <td>4790.840285</td>\n",
       "      <td>8149141.880</td>\n",
       "      <td>1.434802e+08</td>\n",
       "      <td>3.34272</td>\n",
       "    </tr>\n",
       "    <tr>\n",
       "      <th>GBR</th>\n",
       "      <td>15.804620</td>\n",
       "      <td>25.179511</td>\n",
       "      <td>6.878138</td>\n",
       "      <td>100.000000</td>\n",
       "      <td>3328.073055</td>\n",
       "      <td>31051.500</td>\n",
       "      <td>6.393259e+07</td>\n",
       "      <td>5.94036</td>\n",
       "    </tr>\n",
       "    <tr>\n",
       "      <th>ZAF</th>\n",
       "      <td>27.701352</td>\n",
       "      <td>10.059105</td>\n",
       "      <td>8.003584</td>\n",
       "      <td>84.140000</td>\n",
       "      <td>3271.907164</td>\n",
       "      <td>173230.900</td>\n",
       "      <td>5.331449e+07</td>\n",
       "      <td>10.72309</td>\n",
       "    </tr>\n",
       "    <tr>\n",
       "      <th>AFG</th>\n",
       "      <td>55.986498</td>\n",
       "      <td>11.903011</td>\n",
       "      <td>0.255127</td>\n",
       "      <td>66.832564</td>\n",
       "      <td>4499.003600</td>\n",
       "      <td>12084.400</td>\n",
       "      <td>3.183145e+07</td>\n",
       "      <td>18.80293</td>\n",
       "    </tr>\n",
       "    <tr>\n",
       "      <th>AUS</th>\n",
       "      <td>14.510165</td>\n",
       "      <td>3.838983</td>\n",
       "      <td>16.786098</td>\n",
       "      <td>100.000000</td>\n",
       "      <td>5422.574968</td>\n",
       "      <td>1315749.000</td>\n",
       "      <td>2.292587e+07</td>\n",
       "      <td>8.56689</td>\n",
       "    </tr>\n",
       "    <tr>\n",
       "      <th>ARE</th>\n",
       "      <td>38.574971</td>\n",
       "      <td>0.632075</td>\n",
       "      <td>20.291510</td>\n",
       "      <td>100.000000</td>\n",
       "      <td>6657.712942</td>\n",
       "      <td>3170.639</td>\n",
       "      <td>8.816840e+06</td>\n",
       "      <td>0.12021</td>\n",
       "    </tr>\n",
       "    <tr>\n",
       "      <th>FIN</th>\n",
       "      <td>11.857432</td>\n",
       "      <td>7.389602</td>\n",
       "      <td>9.344719</td>\n",
       "      <td>100.000000</td>\n",
       "      <td>5983.195829</td>\n",
       "      <td>223316.092</td>\n",
       "      <td>5.420140e+06</td>\n",
       "      <td>38.48948</td>\n",
       "    </tr>\n",
       "  </tbody>\n",
       "</table>\n",
       "</div>"
      ],
      "text/plain": [
       "Indicators  Air_pollution  Arable_Land        CO2  Electricity_access  \\\n",
       "Country                                                                 \n",
       "CHN             56.000278    12.772381   6.736993           99.765123   \n",
       "IND             79.973580    52.758350   1.493297           80.476606   \n",
       "USA             13.487067    17.183076  16.252073          100.000000   \n",
       "RUS             20.768560     7.428098  11.080018           99.550000   \n",
       "GBR             15.804620    25.179511   6.878138          100.000000   \n",
       "ZAF             27.701352    10.059105   8.003584           84.140000   \n",
       "AFG             55.986498    11.903011   0.255127           66.832564   \n",
       "AUS             14.510165     3.838983  16.786098          100.000000   \n",
       "ARE             38.574971     0.632075  20.291510          100.000000   \n",
       "FIN             11.857432     7.389602   9.344719          100.000000   \n",
       "\n",
       "Indicators   Energy_use         Land    Population  Renewable_Energy_use  \n",
       "Country                                                                   \n",
       "CHN         2756.635478  2053651.038  1.359181e+09              12.39879  \n",
       "IND         1752.436636   701847.700  1.271853e+09              38.09563  \n",
       "USA         6527.656045  3092219.800  3.149033e+08               8.54411  \n",
       "RUS         4790.840285  8149141.880  1.434802e+08               3.34272  \n",
       "GBR         3328.073055    31051.500  6.393259e+07               5.94036  \n",
       "ZAF         3271.907164   173230.900  5.331449e+07              10.72309  \n",
       "AFG         4499.003600    12084.400  3.183145e+07              18.80293  \n",
       "AUS         5422.574968  1315749.000  2.292587e+07               8.56689  \n",
       "ARE         6657.712942     3170.639  8.816840e+06               0.12021  \n",
       "FIN         5983.195829   223316.092  5.420140e+06              38.48948  "
      ]
     },
     "execution_count": 40,
     "metadata": {},
     "output_type": "execute_result"
    }
   ],
   "source": [
    "#Inner Level Sort by using the Population Indicator\n",
    "data_mean_sort =data_mean.groupby(axis=1, level='Indicators').mean().sort_values('Population',ascending=False) \n",
    "data_mean_sort"
   ]
  },
  {
   "cell_type": "code",
   "execution_count": 42,
   "id": "db3e501e",
   "metadata": {},
   "outputs": [
    {
     "data": {
      "text/html": [
       "<div>\n",
       "<style scoped>\n",
       "    .dataframe tbody tr th:only-of-type {\n",
       "        vertical-align: middle;\n",
       "    }\n",
       "\n",
       "    .dataframe tbody tr th {\n",
       "        vertical-align: top;\n",
       "    }\n",
       "\n",
       "    .dataframe thead th {\n",
       "        text-align: right;\n",
       "    }\n",
       "</style>\n",
       "<table border=\"1\" class=\"dataframe\">\n",
       "  <thead>\n",
       "    <tr style=\"text-align: right;\">\n",
       "      <th>Indicators</th>\n",
       "      <th>Air_pollution</th>\n",
       "      <th>Land</th>\n",
       "      <th>Population</th>\n",
       "    </tr>\n",
       "    <tr>\n",
       "      <th>Country</th>\n",
       "      <th></th>\n",
       "      <th></th>\n",
       "      <th></th>\n",
       "    </tr>\n",
       "  </thead>\n",
       "  <tbody>\n",
       "    <tr>\n",
       "      <th>CHN</th>\n",
       "      <td>56.000278</td>\n",
       "      <td>2053651.038</td>\n",
       "      <td>1.359181e+09</td>\n",
       "    </tr>\n",
       "    <tr>\n",
       "      <th>IND</th>\n",
       "      <td>79.973580</td>\n",
       "      <td>701847.700</td>\n",
       "      <td>1.271853e+09</td>\n",
       "    </tr>\n",
       "  </tbody>\n",
       "</table>\n",
       "</div>"
      ],
      "text/plain": [
       "Indicators  Air_pollution         Land    Population\n",
       "Country                                             \n",
       "CHN             56.000278  2053651.038  1.359181e+09\n",
       "IND             79.973580   701847.700  1.271853e+09"
      ]
     },
     "execution_count": 42,
     "metadata": {},
     "output_type": "execute_result"
    }
   ],
   "source": [
    "#Slicing the required Data for the Reporting(using .loc )\n",
    "stat3= data_mean_sort.loc[['CHN','IND'], ['Air_pollution','Land','Population']]\n",
    "stat3"
   ]
  },
  {
   "cell_type": "markdown",
   "id": "fc727672",
   "metadata": {},
   "source": [
    "##### STAT-4  Electricity Access Impact on Air Pollution ( using Both Data Frames with Gorupby() & aggregate () method)"
   ]
  },
  {
   "cell_type": "markdown",
   "id": "8bc36508",
   "metadata": {},
   "source": [
    "Afganistan & Finaland are there in the World Happiness Index Survey. Finald tops the list with higher happy index & Afganistan with least happiness index. When we analyse the data of both AFG & FIN together using Groupby() & Aggregate () funtion for the maximum value.There is a huge difference in the usage of Renewable energy. Finaland has a high rate of use in teh renewable energy, but Afganistan lack in those area. Also the Access to Electricity in AFG is higher, this in turn cause the peoples to use non-renewable energy higher & this will increase the Air Polution rate much higher than Finland."
   ]
  },
  {
   "cell_type": "code",
   "execution_count": 43,
   "id": "5131f0f8",
   "metadata": {},
   "outputs": [],
   "source": [
    "#Groupby with Aggregate function used for finding the Maximum values of the required indicators to compare\n",
    "\n",
    "df_stat4 = df_cc_env.groupby('Country').agg([ \"max\"])\n"
   ]
  },
  {
   "cell_type": "code",
   "execution_count": null,
   "id": "8a849298",
   "metadata": {},
   "outputs": [],
   "source": [
    "#Index slicing used to display the required country indicators for the reporting\n",
    "idx = pd.IndexSlice\n",
    "stat4 = df_stat4.loc[idx['AFG','FIN'], idx[:, ('Air_pollution','Electricity_access','Renewable_Energy_use')]]\n",
    "stat4"
   ]
  },
  {
   "cell_type": "markdown",
   "id": "53000dd4",
   "metadata": {},
   "source": [
    "##### STAT-5  Region wise Climate Change (Using groupby() using an external key,dictionary Country_Groups)"
   ]
  },
  {
   "cell_type": "markdown",
   "id": "8dd30791",
   "metadata": {},
   "source": [
    "Further more analysing the data using the Groupby with Regional wise external key dictionary (\"country_groups\") created before, we can notice that, the countries from Asian regions are having more Air Polution than the European countries."
   ]
  },
  {
   "cell_type": "code",
   "execution_count": null,
   "id": "af4d7451",
   "metadata": {},
   "outputs": [],
   "source": [
    "# Groupby with External Key \"country_groups\" \n",
    "df_stat5= df_cc_env.groupby(country_groups, axis=0, level=0).agg([ \"mean\"])"
   ]
  },
  {
   "cell_type": "code",
   "execution_count": null,
   "id": "6bb04184",
   "metadata": {},
   "outputs": [],
   "source": [
    "df_stat5.index.names=[\"Region\"] #Renaming the  Country_Group level name to 'Region' instead of 'Country'"
   ]
  },
  {
   "cell_type": "code",
   "execution_count": null,
   "id": "9b39c45d",
   "metadata": {},
   "outputs": [],
   "source": [
    "data_2 = df_stat5.groupby(level='Region').mean()  #Grouping the data frmae with Region"
   ]
  },
  {
   "cell_type": "code",
   "execution_count": null,
   "id": "3ea69836",
   "metadata": {},
   "outputs": [],
   "source": [
    "#Sorting the data frame with Population indicators in Decending order\n",
    "data_2_sort =data_2.groupby(axis=1, level='Indicators').mean().sort_values('Population',ascending=False) #Inner Level Sort\n",
    "data_2_sort"
   ]
  },
  {
   "cell_type": "code",
   "execution_count": null,
   "id": "ae68fd29",
   "metadata": {
    "scrolled": true
   },
   "outputs": [],
   "source": [
    "stat5= data_2_sort.loc[['Asia','Europe'], ['Population','Air_polution']] #Slicing final data frame to display the result using .loc\n",
    "stat5"
   ]
  },
  {
   "cell_type": "markdown",
   "id": "b992ed8b",
   "metadata": {},
   "source": [
    "##### STAT-6  Region wise Carbon Emission (Using groupby() using an external key,dictionary Country_Groups)"
   ]
  },
  {
   "cell_type": "markdown",
   "id": "6a6de034",
   "metadata": {},
   "source": [
    "Eventhough Asia has the largest population with largest Air polution, they have lesser Carbon emissions. This is because, they are now moving in to the renewable energy & increase the Arable Land areas. But Middle East is leading the Carbon emissions because of the less use of Renewable Energy as the non-renewable energy sources like petrolieum easily available. Because of this fuel availability leading towards the high usage of the Fuel cause Carbon Emissions. One more point to be noted, the Arable Land area's in Middle East where far below than Asia or Europe"
   ]
  },
  {
   "cell_type": "code",
   "execution_count": null,
   "id": "be22a3d3",
   "metadata": {},
   "outputs": [],
   "source": [
    "#setting up the data frame using Group by & Indicators from the Regional data\n",
    "df_stat6= data_2.groupby(axis=1, level='Indicators').mean().sort_values('CO2',ascending=True)\n",
    "df_stat6"
   ]
  },
  {
   "cell_type": "code",
   "execution_count": null,
   "id": "08ebfb7e",
   "metadata": {},
   "outputs": [],
   "source": [
    "#Slicing final data frame to display the result using .loc\n",
    "stat6= data_2_sort.loc[['Asia','Europe','North America','Middle East'], ['CO2','Renewable_Energy_use','Energy_use','Arable_Land']]\n",
    "stat6"
   ]
  },
  {
   "cell_type": "markdown",
   "id": "5718477e",
   "metadata": {},
   "source": [
    "##### STAT-7  Regions with Highest Energy Consumption (using groupby() with .filter() funtion)"
   ]
  },
  {
   "cell_type": "markdown",
   "id": "850e30d2",
   "metadata": {},
   "source": [
    "By using the Filter() funtion with Groupby method, we can find the highest 3 Energy using Regions from the World Bank Data frame. Middle East is leading the list becuase of the uninterruptable use of Oil & Gas."
   ]
  },
  {
   "cell_type": "code",
   "execution_count": null,
   "id": "db21535e",
   "metadata": {},
   "outputs": [],
   "source": [
    "#Defining Filter Funtion to remove filter out the lowest Energy Consumption Regions lesser than 5000\n",
    "def filter_func(x):\n",
    "    return x['Energy_use'].mean() > 5000   "
   ]
  },
  {
   "cell_type": "code",
   "execution_count": null,
   "id": "e85c6941",
   "metadata": {},
   "outputs": [],
   "source": [
    "#Setting up data frame for the analysis using group by with indicators columns\n",
    "df_stat7= data_2.groupby(axis=1, level='Indicators').mean().sort_values('Energy_use',ascending=True)"
   ]
  },
  {
   "cell_type": "code",
   "execution_count": null,
   "id": "0494ef68",
   "metadata": {},
   "outputs": [],
   "source": [
    "#Setting up data frame using Regional indicators\n",
    "df_stat7= df_stat7.groupby('Region').mean().sort_values('Energy_use',ascending=False)\n",
    "df_stat7"
   ]
  },
  {
   "cell_type": "code",
   "execution_count": null,
   "id": "35ce84a9",
   "metadata": {},
   "outputs": [],
   "source": [
    "#Applying .filter funtion to remove the lesser energy consuptions regions\n",
    "df_stat7_1= df_stat7.groupby('Region').filter(filter_func)"
   ]
  },
  {
   "cell_type": "code",
   "execution_count": null,
   "id": "bf7d68a5",
   "metadata": {},
   "outputs": [],
   "source": [
    "df_stat7_1"
   ]
  },
  {
   "cell_type": "code",
   "execution_count": null,
   "id": "f71ccc71",
   "metadata": {},
   "outputs": [],
   "source": [
    "stat7= df_stat7_1['Energy_use']  #Displaying the result of Top 3 Energy Usage Regions\n",
    "stat7"
   ]
  },
  {
   "cell_type": "markdown",
   "id": "15d27e80",
   "metadata": {},
   "source": [
    "##### STAT-8  Population Analysis vs Electricity Access (using gorupby() method with transform())"
   ]
  },
  {
   "cell_type": "markdown",
   "id": "9422796c",
   "metadata": {},
   "source": [
    "From the below analysis, we are transforming the population data in millions for the easy interpretation. Asia & Africa poses lesser access to Electricity than other countries while holding the higher population rates."
   ]
  },
  {
   "cell_type": "code",
   "execution_count": null,
   "id": "caf0943b",
   "metadata": {},
   "outputs": [],
   "source": [
    "#Setting up the data frame for the Analysis usign Group By\n",
    "df_stat8= data_2.groupby(axis=1, level='Indicators').mean()\n",
    "df_stat8"
   ]
  },
  {
   "cell_type": "code",
   "execution_count": null,
   "id": "08c04a80",
   "metadata": {},
   "outputs": [],
   "source": [
    "#Transforming the Population Columns to Millions using .transform funtion\n",
    "stat8 = df_stat8.groupby('Region')['Population'].transform(lambda x: x/1000000) #Tranform the Population data to Millions\n",
    "stat8"
   ]
  },
  {
   "cell_type": "code",
   "execution_count": null,
   "id": "bc2ef59b",
   "metadata": {},
   "outputs": [],
   "source": [
    "#displaying the result\n",
    "stat8_1= df_stat8.loc[['Asia','Africa'], ['Population','Electricity_access']]\n",
    "stat8_1"
   ]
  },
  {
   "cell_type": "markdown",
   "id": "ae2a7b12",
   "metadata": {},
   "source": [
    "##### STAT-9  Renewable Energy Use vs Total Energy Use (Using Groupby()method with apply() funtion )"
   ]
  },
  {
   "cell_type": "markdown",
   "id": "27fa3c6f",
   "metadata": {},
   "source": [
    "Using the Apply funtion, we can figure out the percentage of the use of Renewable energy from the total energy consumption from the country regions. From the analysis, there in one interesting point to be noted. The Asia & Africa regions are using  more renewable enrgy from the total energy consumption with Asia having 9.26% & Africa having 4.15%."
   ]
  },
  {
   "cell_type": "code",
   "execution_count": null,
   "id": "86f82bbc",
   "metadata": {},
   "outputs": [],
   "source": [
    "#Setting up Data frame for the analysis with mean & Regional Indicators\n",
    "df_stat9= df_cc_env.groupby(country_groups, axis=0, level=0).agg([ \"mean\"])\n",
    "df_stat9.index.names=[\"Region\"]"
   ]
  },
  {
   "cell_type": "code",
   "execution_count": null,
   "id": "0c8553bb",
   "metadata": {},
   "outputs": [],
   "source": [
    "#Setting up the axis for the easy analaysis with Indicators column\n",
    "df_stat9_1= df_stat9.groupby(axis=1, level='Indicators').mean()"
   ]
  },
  {
   "cell_type": "code",
   "execution_count": null,
   "id": "29570941",
   "metadata": {},
   "outputs": [],
   "source": [
    "def norm_by_energy_use (x):            #Percentage of Renewable Energy Use\n",
    "    # x is a DataFrame of group values\n",
    "    x['Renewable_Energy_use']/= x['Energy_use']*0.001   #Finding the total percentage\n",
    "    return x\n",
    "\n",
    "df_stat9_pcnt = df_stat9_1.groupby('Region').apply(norm_by_energy_use) #Applying the normalization funtion for the percentage \n",
    "                                                                       #to the data frame"
   ]
  },
  {
   "cell_type": "code",
   "execution_count": null,
   "id": "da49399a",
   "metadata": {},
   "outputs": [],
   "source": [
    "stat9= df_stat9_pcnt['Renewable_Energy_use'] #Displaying the results in percentage\n",
    "stat9"
   ]
  },
  {
   "cell_type": "code",
   "execution_count": null,
   "id": "6757d852",
   "metadata": {},
   "outputs": [],
   "source": []
  },
  {
   "cell_type": "code",
   "execution_count": null,
   "id": "0e964627",
   "metadata": {},
   "outputs": [],
   "source": []
  }
 ],
 "metadata": {
  "kernelspec": {
   "display_name": "Python 3 (ipykernel)",
   "language": "python",
   "name": "python3"
  },
  "language_info": {
   "codemirror_mode": {
    "name": "ipython",
    "version": 3
   },
   "file_extension": ".py",
   "mimetype": "text/x-python",
   "name": "python",
   "nbconvert_exporter": "python",
   "pygments_lexer": "ipython3",
   "version": "3.9.7"
  }
 },
 "nbformat": 4,
 "nbformat_minor": 5
}
